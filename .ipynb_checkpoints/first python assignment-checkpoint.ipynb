{
 "cells": [
  {
   "cell_type": "code",
   "execution_count": 1,
   "id": "7265957d-9c94-4ca4-87d6-44a310b89fea",
   "metadata": {},
   "outputs": [],
   "source": [
    "#1 -Write a code to reverse a string."
   ]
  },
  {
   "cell_type": "code",
   "execution_count": 2,
   "id": "845cd0b0-2fac-4366-9de0-ff91a0e15342",
   "metadata": {},
   "outputs": [
    {
     "data": {
      "text/plain": [
       "'dlrow olleH'"
      ]
     },
     "execution_count": 2,
     "metadata": {},
     "output_type": "execute_result"
    }
   ],
   "source": [
    "str = \"Hello world\"\n",
    "str[::-1]"
   ]
  },
  {
   "cell_type": "code",
   "execution_count": 3,
   "id": "5590bb93-0f53-4e9e-afde-abebc58fe6cf",
   "metadata": {},
   "outputs": [],
   "source": [
    "#2- Write a code to count the number of vowels in a string."
   ]
  },
  {
   "cell_type": "code",
   "execution_count": 1,
   "id": "a0021beb-c2f8-4adf-b4ca-3cfc1915b0e4",
   "metadata": {},
   "outputs": [
    {
     "name": "stdout",
     "output_type": "stream",
     "text": [
      "4\n"
     ]
    }
   ],
   "source": [
    "string = \"sushantkumar\"\n",
    "vowels = \"aeiou\"\n",
    "\n",
    "count = sum(string.count(vowel) for vowel in vowels)\n",
    "print(count)"
   ]
  },
  {
   "cell_type": "code",
   "execution_count": 5,
   "id": "97b6b4d2-7e45-4ad1-ab6c-db17b0122502",
   "metadata": {},
   "outputs": [],
   "source": [
    "#3- Write a code to check if a given string is a palindrome or not."
   ]
  },
  {
   "cell_type": "code",
   "execution_count": 6,
   "id": "e1c8b845-2a01-4ff3-bab5-1eb45bb6adea",
   "metadata": {},
   "outputs": [
    {
     "name": "stdout",
     "output_type": "stream",
     "text": [
      "Yes\n"
     ]
    }
   ],
   "source": [
    "# function which return reverse of a string\n",
    "\n",
    "def isPalindrome(s):\n",
    "    return s == s[::-1]\n",
    "\n",
    "\n",
    "# Driver code\n",
    "s = \"malayalam\"\n",
    "ans = isPalindrome(s)\n",
    "\n",
    "if ans:\n",
    "    print(\"Yes\")\n",
    "else:\n",
    "    print(\"No\")\n"
   ]
  },
  {
   "cell_type": "code",
   "execution_count": 7,
   "id": "4cee7a65-344b-4f43-877d-0c5f0a4c81f1",
   "metadata": {},
   "outputs": [
    {
     "name": "stdout",
     "output_type": "stream",
     "text": [
      "No\n"
     ]
    }
   ],
   "source": [
    "def ispalindrome(s):\n",
    "    return s==s[::-1]\n",
    "\n",
    "s = \"sushant\"\n",
    "ans = ispalindrome(s)\n",
    "\n",
    "if ans:\n",
    "    print(\"Yes\")\n",
    "else:\n",
    "    print(\"No\")"
   ]
  },
  {
   "cell_type": "code",
   "execution_count": 8,
   "id": "9e9c08e3-079c-47a7-910d-6777273d945f",
   "metadata": {},
   "outputs": [],
   "source": [
    "#4- Write a code to check if two given strings are anagrams of each other."
   ]
  },
  {
   "cell_type": "code",
   "execution_count": 9,
   "id": "e4cbc395-0b69-4e0d-8153-b587f89e338a",
   "metadata": {},
   "outputs": [
    {
     "name": "stdout",
     "output_type": "stream",
     "text": [
      "The strings are anagrams.\n"
     ]
    }
   ],
   "source": [
    "s1=(\"silent:\")\n",
    "s2=(\"listen:\")\n",
    "if(sorted(s1)==sorted(s2)):\n",
    "      print(\"The strings are anagrams.\")\n",
    "else:\n",
    "      print(\"The strings aren't anagrams.\")"
   ]
  },
  {
   "cell_type": "code",
   "execution_count": 10,
   "id": "0c212f1f-cfec-4867-a8cf-4ce6e5aa2541",
   "metadata": {},
   "outputs": [],
   "source": [
    "#5- Write a code to find all occurrence of a given substring within another strings."
   ]
  },
  {
   "cell_type": "code",
   "execution_count": 2,
   "id": "805ef45d-6700-44da-a242-6a9ddbdbebf2",
   "metadata": {},
   "outputs": [
    {
     "name": "stdout",
     "output_type": "stream",
     "text": [
      "The string is: I am python beginner. I learn python from pwskills\n",
      "The substring is: python\n",
      "The starting indices of the occurrences of python in the string are:[5, 30]\n"
     ]
    }
   ],
   "source": [
    "myStr = \"I am python beginner. I learn python from pwskills\"\n",
    "substring = \"python\"\n",
    "str_len = len(myStr)\n",
    "sub_len = len(substring)\n",
    "sub_indices = []\n",
    "for i in range(str_len - sub_len):\n",
    "    if myStr[i:i + sub_len] == substring:\n",
    "        sub_indices.append(i)\n",
    "print(\"The string is:\", myStr)\n",
    "print(\"The substring is:\", substring)\n",
    "print(\"The starting indices of the occurrences of {} in the string are:{}\".format(substring, sub_indices))"
   ]
  },
  {
   "cell_type": "code",
   "execution_count": 16,
   "id": "84d211cc-6d4b-4dca-a1f5-c4f140c37b64",
   "metadata": {},
   "outputs": [],
   "source": [
    "#6- Write a code to perform basic string compression using the count of repeated character"
   ]
  },
  {
   "cell_type": "code",
   "execution_count": 17,
   "id": "0ea6ea8d-44ac-4824-bd1e-a33ee906f962",
   "metadata": {},
   "outputs": [
    {
     "name": "stdout",
     "output_type": "stream",
     "text": [
      "a3bc5a4\n"
     ]
    }
   ],
   "source": [
    "string = \"aaabcccccaaaa\"\n",
    "\n",
    "output = \"\"\n",
    "lastchar = string[0]\n",
    "counts = {lastchar:1}\n",
    "\n",
    "for i in range(1, len(string)):\n",
    "    s = string[i]\n",
    "    if s == lastchar:\n",
    "        counts[s] += 1\n",
    "    else:\n",
    "        output += f\"{lastchar}{counts[lastchar]}\" if counts[lastchar] > 1 else lastchar\n",
    "        del counts[lastchar]\n",
    "        counts[s] = 1\n",
    "    lastchar = s\n",
    "\n",
    "print(output+f\"{lastchar}{counts[lastchar]}\" if counts[lastchar] > 1 else lastchar)"
   ]
  },
  {
   "cell_type": "code",
   "execution_count": 20,
   "id": "e4534c7a-6ffc-4d5f-82e4-2533251ab254",
   "metadata": {},
   "outputs": [],
   "source": [
    "#7 = Write a code to determine if a string has all unique character."
   ]
  },
  {
   "cell_type": "code",
   "execution_count": 21,
   "id": "beec6c36-df85-4bcf-964d-c2436c2dfbdb",
   "metadata": {},
   "outputs": [
    {
     "name": "stdout",
     "output_type": "stream",
     "text": [
      "True\n"
     ]
    }
   ],
   "source": [
    "import operator as op#7 = Write a code to determine if a string has all unique character.\n",
    "\n",
    "def isUniqueChars(string):\n",
    "\n",
    "\tfor i in string:\n",
    "\t\tif op.countOf(string, i) > 1:\n",
    "\t\t\treturn False\n",
    "\treturn True\n",
    "\n",
    "\n",
    "# driver code\n",
    "st = \"abcd\"\n",
    "print(isUniqueChars(st))\n",
    "# “abcd” doesn’t contain any duplicates. Hence the output is True."
   ]
  },
  {
   "cell_type": "code",
   "execution_count": 23,
   "id": "c61b339a-7acf-4f60-ba58-7818256d4ec3",
   "metadata": {},
   "outputs": [
    {
     "name": "stdout",
     "output_type": "stream",
     "text": [
      "False\n"
     ]
    }
   ],
   "source": [
    "import operator as op\n",
    "\n",
    "def isUniqueChars(string):\n",
    "\n",
    "    for i in string:\n",
    "        if op.countOf(string, i) > 1:\n",
    "            return False\n",
    "    return True\n",
    "\n",
    "\n",
    "# driver code\n",
    "st = \"abcad\"\n",
    "print(isUniqueChars(st))\n",
    "# \"abcad\" contains duplicate . Hence the output is false"
   ]
  },
  {
   "cell_type": "code",
   "execution_count": 24,
   "id": "e5f26079-d052-4bd4-810e-694908209e82",
   "metadata": {},
   "outputs": [],
   "source": [
    "#8- Write a code to convert a given string to uppercase or lowercase."
   ]
  },
  {
   "cell_type": "code",
   "execution_count": 25,
   "id": "299fbd5d-11aa-4d9c-9854-7bebce396f75",
   "metadata": {},
   "outputs": [],
   "source": [
    "text = \"Hello world\""
   ]
  },
  {
   "cell_type": "code",
   "execution_count": 26,
   "id": "3999f31d-2710-4aa3-9cc8-86a7e67ae8d7",
   "metadata": {},
   "outputs": [
    {
     "data": {
      "text/plain": [
       "'hello world'"
      ]
     },
     "execution_count": 26,
     "metadata": {},
     "output_type": "execute_result"
    }
   ],
   "source": [
    "text.lower()"
   ]
  },
  {
   "cell_type": "code",
   "execution_count": 28,
   "id": "bfe26125-d98c-4c56-a5d1-e4a243c5bf90",
   "metadata": {},
   "outputs": [
    {
     "data": {
      "text/plain": [
       "'HELLO WORLD'"
      ]
     },
     "execution_count": 28,
     "metadata": {},
     "output_type": "execute_result"
    }
   ],
   "source": [
    "text.upper()"
   ]
  },
  {
   "cell_type": "code",
   "execution_count": 29,
   "id": "5fe6df7f-ef52-4491-8aaa-bd1aca815069",
   "metadata": {},
   "outputs": [],
   "source": [
    "#9- Write a code to count the number of words in a string."
   ]
  },
  {
   "cell_type": "code",
   "execution_count": 30,
   "id": "90b328ac-bab2-4cbf-8f21-5bf95ee6f326",
   "metadata": {},
   "outputs": [
    {
     "name": "stdout",
     "output_type": "stream",
     "text": [
      "Count of Words in the given Sentence: 5\n"
     ]
    }
   ],
   "source": [
    "countOfWords = len(\"Hello world,its a brightsunny day\".split())\n",
    "print(\"Count of Words in the given Sentence:\", countOfWords)"
   ]
  },
  {
   "cell_type": "code",
   "execution_count": 31,
   "id": "55c14ffb-fc42-431d-8927-c0facb64399c",
   "metadata": {},
   "outputs": [],
   "source": [
    "#10 - Write a code to concatenate two string without using the + operator."
   ]
  },
  {
   "cell_type": "code",
   "execution_count": 32,
   "id": "50466632-a2bd-40fd-b37f-b27b9aaa6629",
   "metadata": {},
   "outputs": [],
   "source": [
    "str1 = \"Welcome\""
   ]
  },
  {
   "cell_type": "code",
   "execution_count": 33,
   "id": "e1ea915a-b042-4595-92cc-073b2253a7a7",
   "metadata": {},
   "outputs": [],
   "source": [
    "str2 = \"pwskills\""
   ]
  },
  {
   "cell_type": "code",
   "execution_count": 34,
   "id": "bf274986-44b6-4093-b00b-c760eb357a03",
   "metadata": {},
   "outputs": [
    {
     "name": "stdout",
     "output_type": "stream",
     "text": [
      "Welcome\n"
     ]
    }
   ],
   "source": [
    "print(str1)"
   ]
  },
  {
   "cell_type": "code",
   "execution_count": 35,
   "id": "ff678d2f-b1cd-4e85-8a1d-e11dfdf5afac",
   "metadata": {},
   "outputs": [
    {
     "name": "stdout",
     "output_type": "stream",
     "text": [
      "pwskills\n"
     ]
    }
   ],
   "source": [
    "print(str2)"
   ]
  },
  {
   "cell_type": "code",
   "execution_count": 36,
   "id": "daf7a83e-b382-4e9d-8206-34258176f0c4",
   "metadata": {},
   "outputs": [],
   "source": [
    "concat = \" \".join([str1,str2])"
   ]
  },
  {
   "cell_type": "code",
   "execution_count": 37,
   "id": "bf9a1933-ac3e-4718-8670-e70063afdb42",
   "metadata": {},
   "outputs": [
    {
     "data": {
      "text/plain": [
       "'Welcome pwskills'"
      ]
     },
     "execution_count": 37,
     "metadata": {},
     "output_type": "execute_result"
    }
   ],
   "source": [
    "concat"
   ]
  },
  {
   "cell_type": "code",
   "execution_count": 38,
   "id": "4f5da734-79a5-45d6-b497-8c9216abe5be",
   "metadata": {},
   "outputs": [],
   "source": [
    "#11- Write a code to remove all occurrence  of a specific element from a list."
   ]
  },
  {
   "cell_type": "code",
   "execution_count": 39,
   "id": "178d6ab0-fab9-428a-8da3-9db6fea3470f",
   "metadata": {},
   "outputs": [],
   "source": [
    "lis= [1,2,True,(3+5j),'pwskills']"
   ]
  },
  {
   "cell_type": "code",
   "execution_count": 40,
   "id": "6e8f3152-8cdc-4b42-86de-92afa83d320a",
   "metadata": {},
   "outputs": [],
   "source": [
    "lis.remove('pwskills')"
   ]
  },
  {
   "cell_type": "code",
   "execution_count": 41,
   "id": "394be46e-5460-4a01-a357-f2406874f070",
   "metadata": {},
   "outputs": [
    {
     "data": {
      "text/plain": [
       "[1, 2, True, (3+5j)]"
      ]
     },
     "execution_count": 41,
     "metadata": {},
     "output_type": "execute_result"
    }
   ],
   "source": [
    "lis"
   ]
  },
  {
   "cell_type": "code",
   "execution_count": 42,
   "id": "c142dffd-65c6-4d30-a00a-4d4f245f8eed",
   "metadata": {},
   "outputs": [],
   "source": [
    "#12- Implement a code to find the second largest number in a given list of integer."
   ]
  },
  {
   "cell_type": "code",
   "execution_count": 43,
   "id": "b5ed2826-e1c0-467a-a9b5-02bbe3deb2ab",
   "metadata": {},
   "outputs": [],
   "source": [
    "# Sorting the list and then print the second largest number.\n",
    "nums=[78,45,76,90,23,37,84]"
   ]
  },
  {
   "cell_type": "code",
   "execution_count": 44,
   "id": "678b3059-ef58-42bc-8286-90dd60cc72b3",
   "metadata": {},
   "outputs": [],
   "source": [
    "nums.sort()"
   ]
  },
  {
   "cell_type": "code",
   "execution_count": 45,
   "id": "81f61f71-56f9-4a39-b952-36eabb6b3d07",
   "metadata": {},
   "outputs": [
    {
     "data": {
      "text/plain": [
       "[23, 37, 45, 76, 78, 84, 90]"
      ]
     },
     "execution_count": 45,
     "metadata": {},
     "output_type": "execute_result"
    }
   ],
   "source": [
    "nums"
   ]
  },
  {
   "cell_type": "code",
   "execution_count": 46,
   "id": "93f6d53b-c971-49cf-b475-56ef07a29d52",
   "metadata": {},
   "outputs": [
    {
     "name": "stdout",
     "output_type": "stream",
     "text": [
      "second largest number is  84\n"
     ]
    }
   ],
   "source": [
    "print(\"second largest number is \",nums[-2])"
   ]
  },
  {
   "cell_type": "code",
   "execution_count": 47,
   "id": "d4b340c9-758f-4949-9e14-8a824e265f90",
   "metadata": {},
   "outputs": [],
   "source": [
    "#13- Create a code to count the occrrence of each element in a list and return dictionary with elements as keys and their counts as values."
   ]
  },
  {
   "cell_type": "code",
   "execution_count": 48,
   "id": "c694fc00-9bfb-4263-a13e-3f221453ad02",
   "metadata": {},
   "outputs": [],
   "source": [
    "#Count the Frequency of Elements in a List.\n",
    "# input_list=[1,2,3,4,5,2,6,3,5,1,7,3,2]"
   ]
  },
  {
   "cell_type": "code",
   "execution_count": 49,
   "id": "d2ae139b-b748-4db7-b871-8e7b50abcdc3",
   "metadata": {},
   "outputs": [],
   "source": [
    "def counter(input_list):\n",
    "    freq={}\n",
    "    for i in input_list:\n",
    "        freq[i]=freq.get(i,0)+1\n",
    "        print(i, freq[i])\n",
    "    return freq"
   ]
  },
  {
   "cell_type": "code",
   "execution_count": 50,
   "id": "6fa99981-7186-44c6-bc73-e1b2105559b8",
   "metadata": {},
   "outputs": [
    {
     "name": "stdout",
     "output_type": "stream",
     "text": [
      "1 1\n",
      "2 1\n",
      "3 1\n",
      "4 1\n",
      "5 1\n",
      "2 2\n",
      "6 1\n",
      "3 2\n",
      "5 2\n",
      "1 2\n",
      "7 1\n",
      "3 3\n",
      "2 3\n",
      "{1: 2, 2: 3, 3: 3, 4: 1, 5: 2, 6: 1, 7: 1}\n"
     ]
    }
   ],
   "source": [
    "print(counter([1,2,3,4,5,2,6,3,5,1,7,3,2]))"
   ]
  },
  {
   "cell_type": "code",
   "execution_count": 51,
   "id": "0e0a4333-5e44-4315-8a58-294b30dbe3c8",
   "metadata": {},
   "outputs": [],
   "source": [
    "#14 -Write a code to reverse a list in-place without using an built-in reverse functions."
   ]
  },
  {
   "cell_type": "code",
   "execution_count": 52,
   "id": "d8c3d563-e0c0-43ac-89cc-b316108c6b37",
   "metadata": {},
   "outputs": [],
   "source": [
    "grocery_list=[\"Milk\",\"orange\",1,2,3,True,2+4j,2.33]"
   ]
  },
  {
   "cell_type": "code",
   "execution_count": 53,
   "id": "8923d198-66ef-4690-a2e6-9bc3941649e1",
   "metadata": {},
   "outputs": [
    {
     "data": {
      "text/plain": [
       "[2.33, (2+4j), True, 3, 2, 1, 'orange', 'Milk']"
      ]
     },
     "execution_count": 53,
     "metadata": {},
     "output_type": "execute_result"
    }
   ],
   "source": [
    "grocery_list[::-1]"
   ]
  },
  {
   "cell_type": "code",
   "execution_count": 54,
   "id": "e07d876f-9ebc-47ab-8e60-8fc3524903d9",
   "metadata": {},
   "outputs": [],
   "source": [
    "#15 - Implement a code to find and remove duplicates from a list while preserving the original order of elements."
   ]
  },
  {
   "cell_type": "code",
   "execution_count": 55,
   "id": "88ab29db-6885-46a0-9849-e947dc417e45",
   "metadata": {},
   "outputs": [],
   "source": [
    "list1= [1,2,3,4,5,6,3,8,4,7,5,1,2]\n",
    "result=[]"
   ]
  },
  {
   "cell_type": "code",
   "execution_count": 56,
   "id": "5feb5d57-1e3c-44a3-8e11-38a1724f36bf",
   "metadata": {},
   "outputs": [],
   "source": [
    "for i in list1:\n",
    "    if i not in result:\n",
    "        result.append(i)"
   ]
  },
  {
   "cell_type": "code",
   "execution_count": 57,
   "id": "d71d2a22-d0a7-4d33-8c59-c1e7b12b54c2",
   "metadata": {},
   "outputs": [
    {
     "name": "stdout",
     "output_type": "stream",
     "text": [
      "[1, 2, 3, 4, 5, 6, 8, 7]\n"
     ]
    }
   ],
   "source": [
    "print(result)"
   ]
  },
  {
   "cell_type": "code",
   "execution_count": 58,
   "id": "6a0fd729-4c5c-49c2-be98-52f189a1e212",
   "metadata": {},
   "outputs": [],
   "source": [
    "# 16 - Create a code to check if a given list is sorted (either in ascending or descending order) or not."
   ]
  },
  {
   "cell_type": "code",
   "execution_count": 59,
   "id": "8d2716bf-34eb-4eec-98ca-bbd711725421",
   "metadata": {},
   "outputs": [],
   "source": [
    "numbers=[1,2,3,8,6,9,4]"
   ]
  },
  {
   "cell_type": "code",
   "execution_count": 60,
   "id": "e1541fb2-505c-4111-8c6d-6006621ff023",
   "metadata": {},
   "outputs": [
    {
     "data": {
      "text/plain": [
       "[1, 2, 3, 4, 6, 8, 9]"
      ]
     },
     "execution_count": 60,
     "metadata": {},
     "output_type": "execute_result"
    }
   ],
   "source": [
    "sorted(numbers)"
   ]
  },
  {
   "cell_type": "code",
   "execution_count": 61,
   "id": "5588add9-a4fc-4c08-ab72-6a66aaf99a1a",
   "metadata": {},
   "outputs": [],
   "source": [
    "Book_list=[\"Data Structure\",\"Algorithum\",\"web dev\"]"
   ]
  },
  {
   "cell_type": "code",
   "execution_count": 62,
   "id": "6b7bf50d-cab2-4e60-9c8a-38717ccfa12d",
   "metadata": {},
   "outputs": [
    {
     "data": {
      "text/plain": [
       "['Algorithum', 'Data Structure', 'web dev']"
      ]
     },
     "execution_count": 62,
     "metadata": {},
     "output_type": "execute_result"
    }
   ],
   "source": [
    "sorted(Book_list)"
   ]
  },
  {
   "cell_type": "code",
   "execution_count": 63,
   "id": "09b8ed5e-af3b-4da0-8bfa-7e0836e630c9",
   "metadata": {},
   "outputs": [],
   "source": [
    "# 17 -Write a code to merge two sorted lists into a single sorted lists."
   ]
  },
  {
   "cell_type": "code",
   "execution_count": 64,
   "id": "8b6e63ef-2596-4614-bf69-91c8275e7676",
   "metadata": {},
   "outputs": [],
   "source": [
    "My_list1=[\"Apple\",\"Orange\",\"Banana\"]"
   ]
  },
  {
   "cell_type": "code",
   "execution_count": 65,
   "id": "0a7d52bf-9c71-4486-b4f8-ea7589661429",
   "metadata": {},
   "outputs": [
    {
     "data": {
      "text/plain": [
       "['Apple', 'Banana', 'Orange']"
      ]
     },
     "execution_count": 65,
     "metadata": {},
     "output_type": "execute_result"
    }
   ],
   "source": [
    "sorted(My_list1)"
   ]
  },
  {
   "cell_type": "code",
   "execution_count": 66,
   "id": "54153021-16c7-4642-afae-fe985ace4c48",
   "metadata": {},
   "outputs": [],
   "source": [
    "My_list2=[\"Potato\",\"Avacado\",\"Brinjal\"]"
   ]
  },
  {
   "cell_type": "code",
   "execution_count": 67,
   "id": "95ef0ff4-784e-4c7c-b52d-ec1ba7dbad02",
   "metadata": {},
   "outputs": [
    {
     "data": {
      "text/plain": [
       "['Avacado', 'Brinjal', 'Potato']"
      ]
     },
     "execution_count": 67,
     "metadata": {},
     "output_type": "execute_result"
    }
   ],
   "source": [
    "sorted(My_list2)"
   ]
  },
  {
   "cell_type": "code",
   "execution_count": 68,
   "id": "593cb2b9-0e8e-4d5b-9699-c433a56b8336",
   "metadata": {},
   "outputs": [],
   "source": [
    "My_list1.extend(My_list2)"
   ]
  },
  {
   "cell_type": "code",
   "execution_count": 69,
   "id": "7e202702-fc98-4d44-83eb-8d77dfb88922",
   "metadata": {},
   "outputs": [
    {
     "data": {
      "text/plain": [
       "['Apple', 'Orange', 'Banana', 'Potato', 'Avacado', 'Brinjal']"
      ]
     },
     "execution_count": 69,
     "metadata": {},
     "output_type": "execute_result"
    }
   ],
   "source": [
    "My_list1"
   ]
  },
  {
   "cell_type": "code",
   "execution_count": 70,
   "id": "45c3ef4d-0ea2-49a4-b506-9c083b788361",
   "metadata": {},
   "outputs": [
    {
     "data": {
      "text/plain": [
       "['Apple', 'Avacado', 'Banana', 'Brinjal', 'Orange', 'Potato']"
      ]
     },
     "execution_count": 70,
     "metadata": {},
     "output_type": "execute_result"
    }
   ],
   "source": [
    "sorted(My_list1)"
   ]
  },
  {
   "cell_type": "code",
   "execution_count": 71,
   "id": "dc28d1eb-d4ff-44ef-b2fd-a368a2a6a6d1",
   "metadata": {},
   "outputs": [],
   "source": [
    "# 18- Implement a code to find the intersection of two given lists."
   ]
  },
  {
   "cell_type": "code",
   "execution_count": 72,
   "id": "8a2af2bd-98bd-44cc-a1c5-b4083b47dfe0",
   "metadata": {},
   "outputs": [],
   "source": [
    "def intersection_list(list1, list2):  \n",
    "    return list(set(list1) & set(list2))  \n",
    "  \n",
    "list1 = [40, 90, 11, 58, 31, 66, 28, 54, 79]  \n",
    "list2 = [58, 90, 54, 31, 45, 11, 66, 28, 26]   "
   ]
  },
  {
   "cell_type": "code",
   "execution_count": 73,
   "id": "a49718a5-5c69-4788-b273-27c3bb51eac8",
   "metadata": {},
   "outputs": [
    {
     "name": "stdout",
     "output_type": "stream",
     "text": [
      "[66, 90, 11, 54, 58, 28, 31]\n"
     ]
    }
   ],
   "source": [
    "print(intersection_list(list1, list2)) "
   ]
  },
  {
   "cell_type": "code",
   "execution_count": 74,
   "id": "60caf538-f6a5-48d6-8329-5b1a4949ca7c",
   "metadata": {},
   "outputs": [],
   "source": [
    "#19 - Create a code to find the union of two lists without duplicates."
   ]
  },
  {
   "cell_type": "code",
   "execution_count": 75,
   "id": "c5b6a819-ec0b-4789-a029-e707c4f8f35c",
   "metadata": {},
   "outputs": [],
   "source": [
    "#Python Program to Combine Two Lists With Unique Values\n",
    "\n",
    "list_1 = [1, 'a']\n",
    "list_2 = [1, 2, 3, 4, 5]\n",
    "\n",
    "# If you want the unique items from a concatenated list, you can use list() and set(). \n",
    "# set() selects the unique values and list() converts the set into list.\n",
    "list_joined = list(set(list_1 + list_2))"
   ]
  },
  {
   "cell_type": "code",
   "execution_count": 76,
   "id": "6011a75a-1f04-4d4f-8bf0-39eab338df0e",
   "metadata": {},
   "outputs": [
    {
     "name": "stdout",
     "output_type": "stream",
     "text": [
      "[1, 2, 3, 4, 5, 'a']\n"
     ]
    }
   ],
   "source": [
    "print(list_joined)"
   ]
  },
  {
   "cell_type": "code",
   "execution_count": 77,
   "id": "fc4a87ab-0f6c-4d5b-b08d-7c41a8660894",
   "metadata": {},
   "outputs": [],
   "source": [
    "#20 - Write a code to shuffle a given list randomly without using inbuilt-in shuffle function."
   ]
  },
  {
   "cell_type": "code",
   "execution_count": 78,
   "id": "264c3b28-d78a-4d19-b81c-de5a18dddba0",
   "metadata": {},
   "outputs": [
    {
     "name": "stdout",
     "output_type": "stream",
     "text": [
      "The original list is: [10, 12, 15, 14, 18, 17, 13, 48, 65]\n",
      "The shuffled list is: [17, 10, 12, 18, 13, 14, 65, 48, 15]\n"
     ]
    }
   ],
   "source": [
    "import random\n",
    "list1 = [10,12,15,14,18,17,13,48,65]\n",
    "print(\"The original list is:\",list1)\n",
    "list2 = random.sample(list1,len(list1))\n",
    "print (\"The shuffled list is:\",list2) "
   ]
  },
  {
   "cell_type": "code",
   "execution_count": 79,
   "id": "49be67fe-e19b-4aa7-bead-99c729f8ce78",
   "metadata": {},
   "outputs": [],
   "source": [
    "# 21 - Write a code that takes two tuples as input and returns a new tuple containing elements that are common to both input tuples."
   ]
  },
  {
   "cell_type": "code",
   "execution_count": 80,
   "id": "a6f0e369-d89b-4c9c-bd80-3e4db135cdc0",
   "metadata": {},
   "outputs": [],
   "source": [
    "t1 = (1,2,100,5,52)"
   ]
  },
  {
   "cell_type": "code",
   "execution_count": 81,
   "id": "87298584-f1b7-43d3-b037-2fdb98bf9062",
   "metadata": {},
   "outputs": [],
   "source": [
    "t2 = (2,3,7,9,200)"
   ]
  },
  {
   "cell_type": "code",
   "execution_count": 82,
   "id": "1f7d1faa-18d1-4df0-9a88-7adedd0570a2",
   "metadata": {},
   "outputs": [],
   "source": [
    "t3 = ((t1)+(t2))"
   ]
  },
  {
   "cell_type": "code",
   "execution_count": 83,
   "id": "f0650fcb-2920-4ff6-9e18-80d39b09acd3",
   "metadata": {},
   "outputs": [
    {
     "data": {
      "text/plain": [
       "(1, 2, 100, 5, 52, 2, 3, 7, 9, 200)"
      ]
     },
     "execution_count": 83,
     "metadata": {},
     "output_type": "execute_result"
    }
   ],
   "source": [
    "t3"
   ]
  },
  {
   "cell_type": "code",
   "execution_count": 84,
   "id": "c5d5bf48-949b-4ce6-aeb1-2fd81d50814e",
   "metadata": {},
   "outputs": [],
   "source": [
    "# 22 - Create a code that prompts the user to enter two sets of integers separated by commas. Then, print the intersection of there two sets."
   ]
  },
  {
   "cell_type": "code",
   "execution_count": 85,
   "id": "f6c2d349-3cd2-40a8-a0b1-ffb418e77aab",
   "metadata": {},
   "outputs": [],
   "source": [
    "s1 = {\"delhi\",\"mumbai\",\"kolkata\"}"
   ]
  },
  {
   "cell_type": "code",
   "execution_count": 86,
   "id": "3e54410c-ec4b-4259-809c-c37d74efb239",
   "metadata": {},
   "outputs": [],
   "source": [
    "s2 = {\"patna\",\"kolkata\",\"lucknow\"}"
   ]
  },
  {
   "cell_type": "code",
   "execution_count": 87,
   "id": "35c23759-2b54-4ce2-9ef1-2d2ffdd33790",
   "metadata": {},
   "outputs": [
    {
     "data": {
      "text/plain": [
       "{'kolkata'}"
      ]
     },
     "execution_count": 87,
     "metadata": {},
     "output_type": "execute_result"
    }
   ],
   "source": [
    "s1&s2"
   ]
  },
  {
   "cell_type": "code",
   "execution_count": 88,
   "id": "a5fbc4c5-fc9f-4798-9c2b-51ea89f87347",
   "metadata": {},
   "outputs": [],
   "source": [
    "# 23 - Write a code to concatenate two tuples. The function should take two tuples as input and return a new tuple containing elements from both input tuples."
   ]
  },
  {
   "cell_type": "code",
   "execution_count": 89,
   "id": "af0fe8fe-e84d-4d17-a58b-e09f266d0712",
   "metadata": {},
   "outputs": [],
   "source": [
    "tuple1 = ('pwskills',(7+3j),True,1,2,3,2.56)"
   ]
  },
  {
   "cell_type": "code",
   "execution_count": 90,
   "id": "6531f06a-48a7-443e-9066-9dc8f2ce60db",
   "metadata": {},
   "outputs": [],
   "source": [
    "tuple2 = (\"Suzuki\", \"Audi\", \"BMW\",\" Skoda \")"
   ]
  },
  {
   "cell_type": "code",
   "execution_count": 91,
   "id": "6cf18eb7-7a25-4d31-9150-d295155a7864",
   "metadata": {},
   "outputs": [],
   "source": [
    "tuple3 = (tuple1+tuple2)"
   ]
  },
  {
   "cell_type": "code",
   "execution_count": 92,
   "id": "c193b24b-c9ce-4bfd-9cfc-c9813e45541d",
   "metadata": {},
   "outputs": [
    {
     "data": {
      "text/plain": [
       "('pwskills', (7+3j), True, 1, 2, 3, 2.56, 'Suzuki', 'Audi', 'BMW', ' Skoda ')"
      ]
     },
     "execution_count": 92,
     "metadata": {},
     "output_type": "execute_result"
    }
   ],
   "source": [
    "tuple3 "
   ]
  },
  {
   "cell_type": "code",
   "execution_count": 93,
   "id": "48a75cce-dffb-4209-a688-66827e77c9e1",
   "metadata": {},
   "outputs": [],
   "source": [
    "# 24 - Developed code that prompts the user to input two sets of strings. Then print the elements that are present in the first set but not in the second set."
   ]
  },
  {
   "cell_type": "code",
   "execution_count": 94,
   "id": "b0bc7f78-2e95-484b-8e59-0dbe3fba4eb7",
   "metadata": {},
   "outputs": [],
   "source": [
    "set1 = {\"hicking\",\"travelling\",\"photography\"}"
   ]
  },
  {
   "cell_type": "code",
   "execution_count": 95,
   "id": "edc9ba6f-038b-4e51-97b1-6e76ad8a1e97",
   "metadata": {},
   "outputs": [],
   "source": [
    "set2 = {\"mountains\",\"photography\",\"reading\"}"
   ]
  },
  {
   "cell_type": "code",
   "execution_count": 96,
   "id": "0f22bd1a-6eb4-4207-8ad0-911ca1f5f67d",
   "metadata": {},
   "outputs": [
    {
     "data": {
      "text/plain": [
       "{'hicking', 'travelling'}"
      ]
     },
     "execution_count": 96,
     "metadata": {},
     "output_type": "execute_result"
    }
   ],
   "source": [
    "set1-set2"
   ]
  },
  {
   "cell_type": "code",
   "execution_count": 97,
   "id": "9aa9f4f4-a8a2-4ebe-a087-fd83d4d90f70",
   "metadata": {},
   "outputs": [],
   "source": [
    "# 26 - Write a code that prompts the user to input two sets of characters. Then print the union of these two sets."
   ]
  },
  {
   "cell_type": "code",
   "execution_count": 98,
   "id": "d3fcfdd6-f774-4490-a722-a362e8b0d4b3",
   "metadata": {},
   "outputs": [],
   "source": [
    "s1 = {1,2,5,3,\"ram\",\"shyam\",}"
   ]
  },
  {
   "cell_type": "code",
   "execution_count": 99,
   "id": "dcc6969b-956a-4fc8-8d70-bc29c6777e01",
   "metadata": {},
   "outputs": [],
   "source": [
    "s2 = {1,6,7,9,2,\"pwskills\",\"ram\"}"
   ]
  },
  {
   "cell_type": "code",
   "execution_count": 100,
   "id": "573643e1-cdf3-4330-942e-d5528c5ce9f4",
   "metadata": {},
   "outputs": [
    {
     "data": {
      "text/plain": [
       "{1, 2, 3, 5, 6, 7, 9, 'pwskills', 'ram', 'shyam'}"
      ]
     },
     "execution_count": 100,
     "metadata": {},
     "output_type": "execute_result"
    }
   ],
   "source": [
    "s1|s2"
   ]
  },
  {
   "cell_type": "code",
   "execution_count": 101,
   "id": "792566e5-ad78-4d00-a0b0-5e325a6729fe",
   "metadata": {},
   "outputs": [],
   "source": [
    "# 27 -  Develop a code that takes a tuple of integers as input. The function should return the maximum and minimum values from the tuple using tuple unpacking."
   ]
  },
  {
   "cell_type": "code",
   "execution_count": 102,
   "id": "562f13d4-6eec-4aa9-9459-cd20cd1f26af",
   "metadata": {},
   "outputs": [],
   "source": [
    "t1 = (1,2,50,48,100,3,5)"
   ]
  },
  {
   "cell_type": "code",
   "execution_count": 103,
   "id": "b20e108c-3dc8-4089-827d-807b9934dc8f",
   "metadata": {},
   "outputs": [
    {
     "data": {
      "text/plain": [
       "100"
      ]
     },
     "execution_count": 103,
     "metadata": {},
     "output_type": "execute_result"
    }
   ],
   "source": [
    "max(t1)"
   ]
  },
  {
   "cell_type": "code",
   "execution_count": 104,
   "id": "46037a61-4d96-4f47-9bd3-205be18509a6",
   "metadata": {},
   "outputs": [
    {
     "data": {
      "text/plain": [
       "1"
      ]
     },
     "execution_count": 104,
     "metadata": {},
     "output_type": "execute_result"
    }
   ],
   "source": [
    "min(t1)"
   ]
  },
  {
   "cell_type": "code",
   "execution_count": 105,
   "id": "fea2496e-5ef5-4b08-b8d0-be9f7ad4a656",
   "metadata": {},
   "outputs": [],
   "source": [
    "# 28 - Create a code that defines two sets of integers. Then print the union,intersection and difference of these two sets"
   ]
  },
  {
   "cell_type": "code",
   "execution_count": 106,
   "id": "6e8a18a4-f604-4ab7-92e7-a70b90c0fcd6",
   "metadata": {},
   "outputs": [],
   "source": [
    "S1 = {\"apple\", \"banana\", \"cherry\", True, 2}"
   ]
  },
  {
   "cell_type": "code",
   "execution_count": 107,
   "id": "0149777b-1fbd-442c-bf6d-17adb81d527b",
   "metadata": {},
   "outputs": [],
   "source": [
    "S2 = {\"mango\",\"brinjal\",\"banana\", True, 2, 3, 2.5}"
   ]
  },
  {
   "cell_type": "code",
   "execution_count": 108,
   "id": "750119d8-97a7-4e00-9029-e1423c62afad",
   "metadata": {},
   "outputs": [
    {
     "data": {
      "text/plain": [
       "{2, True, 'banana'}"
      ]
     },
     "execution_count": 108,
     "metadata": {},
     "output_type": "execute_result"
    }
   ],
   "source": [
    "#Intersection of set\n",
    "S1&S2"
   ]
  },
  {
   "cell_type": "code",
   "execution_count": 109,
   "id": "99a0d53d-db5f-49aa-ae03-bfb6fc8af417",
   "metadata": {},
   "outputs": [
    {
     "data": {
      "text/plain": [
       "{2, 2.5, 3, True, 'apple', 'banana', 'brinjal', 'cherry', 'mango'}"
      ]
     },
     "execution_count": 109,
     "metadata": {},
     "output_type": "execute_result"
    }
   ],
   "source": [
    "# Union\n",
    "S1 | S2"
   ]
  },
  {
   "cell_type": "code",
   "execution_count": 110,
   "id": "95a48c0c-9313-4e40-8cdd-253779b62415",
   "metadata": {},
   "outputs": [
    {
     "data": {
      "text/plain": [
       "{'apple', 'cherry'}"
      ]
     },
     "execution_count": 110,
     "metadata": {},
     "output_type": "execute_result"
    }
   ],
   "source": [
    "# Difference.\n",
    "S1 - S2"
   ]
  },
  {
   "cell_type": "code",
   "execution_count": 111,
   "id": "b67e97ff-56be-4acb-a03e-635bd65445eb",
   "metadata": {},
   "outputs": [],
   "source": [
    "# 29- Write a code that takes a tuple and an element as input. The function should return the count of occurrences of the given element in the tuple."
   ]
  },
  {
   "cell_type": "code",
   "execution_count": 112,
   "id": "fa5d3761-387b-4739-8052-0028a586505d",
   "metadata": {},
   "outputs": [],
   "source": [
    "tuple1 = (\"pwskills\",\"sushant\",(7+3j),(7+3j),True,1,1,1,2,2.3)"
   ]
  },
  {
   "cell_type": "code",
   "execution_count": 113,
   "id": "fab732f9-ab4e-468e-9860-bb6ddacefe6d",
   "metadata": {},
   "outputs": [
    {
     "data": {
      "text/plain": [
       "4"
      ]
     },
     "execution_count": 113,
     "metadata": {},
     "output_type": "execute_result"
    }
   ],
   "source": [
    "tuple1.count(1)"
   ]
  },
  {
   "cell_type": "code",
   "execution_count": 114,
   "id": "27e2530e-94bd-406c-be5f-188dcfb0b9f4",
   "metadata": {},
   "outputs": [
    {
     "data": {
      "text/plain": [
       "1"
      ]
     },
     "execution_count": 114,
     "metadata": {},
     "output_type": "execute_result"
    }
   ],
   "source": [
    "tuple1.count(2)"
   ]
  },
  {
   "cell_type": "code",
   "execution_count": 115,
   "id": "d40f07f0-0a44-4a89-ac99-091617901ce5",
   "metadata": {},
   "outputs": [
    {
     "data": {
      "text/plain": [
       "1"
      ]
     },
     "execution_count": 115,
     "metadata": {},
     "output_type": "execute_result"
    }
   ],
   "source": [
    "tuple1.count(\"pwskills\")"
   ]
  },
  {
   "cell_type": "code",
   "execution_count": 116,
   "id": "601c48eb-8ac4-41b4-90d9-5d05f691c9d8",
   "metadata": {},
   "outputs": [
    {
     "data": {
      "text/plain": [
       "2"
      ]
     },
     "execution_count": 116,
     "metadata": {},
     "output_type": "execute_result"
    }
   ],
   "source": [
    "tuple1.count(7+3j)"
   ]
  },
  {
   "cell_type": "code",
   "execution_count": 117,
   "id": "14635c81-8447-45e6-8d23-07e6e1630515",
   "metadata": {},
   "outputs": [
    {
     "data": {
      "text/plain": [
       "'pwskills'"
      ]
     },
     "execution_count": 117,
     "metadata": {},
     "output_type": "execute_result"
    }
   ],
   "source": [
    "tuple1[0]"
   ]
  },
  {
   "cell_type": "code",
   "execution_count": 118,
   "id": "942f9fa2-5f81-4ec3-899c-c7e670f419ad",
   "metadata": {},
   "outputs": [
    {
     "data": {
      "text/plain": [
       "2.3"
      ]
     },
     "execution_count": 118,
     "metadata": {},
     "output_type": "execute_result"
    }
   ],
   "source": [
    "tuple1[-1]"
   ]
  },
  {
   "cell_type": "code",
   "execution_count": 119,
   "id": "cfa13e85-52d5-46c6-b1ac-c169bca976aa",
   "metadata": {},
   "outputs": [],
   "source": [
    "# 30 -  Develop a code that prompts the user to input two sets of strings. Then print the symmetric difference of thess two sets."
   ]
  },
  {
   "cell_type": "code",
   "execution_count": 120,
   "id": "6700ccbf-bcb3-4959-b36c-aed6b605fc8f",
   "metadata": {},
   "outputs": [],
   "source": [
    "A = {'a','b','c','d'}"
   ]
  },
  {
   "cell_type": "code",
   "execution_count": 121,
   "id": "42b260d5-1b7b-46c7-86a4-5bf13052f9f8",
   "metadata": {},
   "outputs": [],
   "source": [
    "B = {'e','f','b','g'}"
   ]
  },
  {
   "cell_type": "code",
   "execution_count": 122,
   "id": "ffd31ed5-b881-4eee-afa7-e35ae2811486",
   "metadata": {},
   "outputs": [],
   "source": [
    "C = A.symmetric_difference(B)"
   ]
  },
  {
   "cell_type": "code",
   "execution_count": 123,
   "id": "305829d4-df8b-4d18-b882-655d84620ace",
   "metadata": {},
   "outputs": [
    {
     "data": {
      "text/plain": [
       "{'a', 'c', 'd', 'e', 'f', 'g'}"
      ]
     },
     "execution_count": 123,
     "metadata": {},
     "output_type": "execute_result"
    }
   ],
   "source": [
    "C"
   ]
  },
  {
   "cell_type": "code",
   "execution_count": 124,
   "id": "4930226d-77d5-4085-a85a-3ed4ce8c5f2a",
   "metadata": {},
   "outputs": [],
   "source": [
    "# 31 - Write a code that takes a list of words as input and returns a dictionary where the keys are unique words and the values are the frequencies of those words in the input list."
   ]
  },
  {
   "cell_type": "code",
   "execution_count": 125,
   "id": "1bacc9d4-fe7e-4ac0-b3d3-a60ba14a0383",
   "metadata": {},
   "outputs": [],
   "source": [
    "def countfreq(lis):\n",
    "    freq = {}\n",
    "    for items in lis:\n",
    "        freq[items]= freq.get(items,0)+1\n",
    "    print(freq)\n",
    "lis = ['a','c','d','a','b','a','f','c','d','b','c','a']"
   ]
  },
  {
   "cell_type": "code",
   "execution_count": 126,
   "id": "7076f047-4ec4-43d0-911b-47a864061b68",
   "metadata": {},
   "outputs": [
    {
     "name": "stdout",
     "output_type": "stream",
     "text": [
      "{'a': 4, 'c': 3, 'd': 2, 'b': 2, 'f': 1}\n"
     ]
    }
   ],
   "source": [
    "countfreq(lis)"
   ]
  },
  {
   "cell_type": "code",
   "execution_count": 127,
   "id": "4312b238-3def-469c-8a8d-7f2d6786e5fb",
   "metadata": {},
   "outputs": [],
   "source": [
    "# 32 - Write a code that takes two dictionaries as input and merges them into a single dictionars. If there are common keys the values should be added together"
   ]
  },
  {
   "cell_type": "code",
   "execution_count": 128,
   "id": "c51cd665-5689-45c5-b51f-f1f12c5fad2c",
   "metadata": {},
   "outputs": [],
   "source": [
    "# Import the 'Counter' class from the 'collections' module.\n",
    "from collections import Counter\n",
    "d1 = {'a': 100, 'b': 200, 'c': 300}\n",
    "d2 = {'a': 300, 'b': 200, 'd': 400}"
   ]
  },
  {
   "cell_type": "code",
   "execution_count": 129,
   "id": "2bfb923d-f07b-4495-9e62-1126ffba8687",
   "metadata": {},
   "outputs": [],
   "source": [
    "d = Counter(d1)+Counter(d2)"
   ]
  },
  {
   "cell_type": "code",
   "execution_count": 130,
   "id": "c0e8cf26-cf1a-4a7a-9f60-fe6d13b8a7ee",
   "metadata": {},
   "outputs": [
    {
     "data": {
      "text/plain": [
       "Counter({'a': 400, 'b': 400, 'c': 300, 'd': 400})"
      ]
     },
     "execution_count": 130,
     "metadata": {},
     "output_type": "execute_result"
    }
   ],
   "source": [
    "d"
   ]
  },
  {
   "cell_type": "code",
   "execution_count": 131,
   "id": "694cbb7f-b692-4aee-8a14-2ac38a22c3f6",
   "metadata": {},
   "outputs": [],
   "source": [
    "#33- write a code to access a value in a nested dictionary. The function should take the dictionary and a list of keys as input and return the corresponding value If any of the keys do not exist in the dictionary the function should return None."
   ]
  },
  {
   "cell_type": "code",
   "execution_count": 157,
   "id": "41a1e59e-d93b-4c16-bce7-d15577883260",
   "metadata": {},
   "outputs": [
    {
     "name": "stdout",
     "output_type": "stream",
     "text": [
      "Nested dictionary 1-\n",
      "{'Dict1': {}, 'Dict2': {}}\n",
      "\n",
      "Nested dictionary 2-\n",
      "{'Dict1': {'name': 'Ram', 'age': '19'}, 'Dict2': {'name': 'Shyam', 'age': '25'}}\n",
      "\n",
      "Nested dictionary 3-\n",
      "{'Dict1': {1: 'G', 2: 'F', 3: 'G'}, 'Dict2': {'Name': 'Sushant', 1: [1, 2]}}\n"
     ]
    }
   ],
   "source": [
    "# Empty nested dictionary\n",
    "Dict = { 'Dict1': { },\n",
    "\t\t'Dict2': { }}\n",
    "print(\"Nested dictionary 1-\")\n",
    "print(Dict)\n",
    "\n",
    "# Nested dictionary having same keys\n",
    "Dict = { 'Dict1': {'name': 'Ram', 'age': '19'},\n",
    "\t\t'Dict2': {'name': 'Shyam', 'age': '25'}}\n",
    "print(\"\\nNested dictionary 2-\")\n",
    "print(Dict)\n",
    "\n",
    "# Nested dictionary of mixed dictionary keys\n",
    "Dict = { 'Dict1': {1: 'G', 2: 'F', 3: 'G'},\n",
    "\t\t'Dict2': {'Name': 'Sushant', 1: [1, 2]} }\n",
    "print(\"\\nNested dictionary 3-\")\n",
    "print(Dict)\n",
    "\n",
    "\n"
   ]
  },
  {
   "cell_type": "code",
   "execution_count": 134,
   "id": "aa8267cd-e986-4b7d-89eb-466ff4ec8831",
   "metadata": {},
   "outputs": [],
   "source": [
    "# 34 -  Write a code that takes a dictionary as input and returns a sorted version of it based on the values. You can choose whether to sort in ascending or descending order."
   ]
  },
  {
   "cell_type": "code",
   "execution_count": 135,
   "id": "a28acd5e-076a-4bd8-ae28-7bdcb461d619",
   "metadata": {},
   "outputs": [],
   "source": [
    "my_dict = { 'num6': 6, 'num3': 3, 'num2': 2, 'num4': 4, 'num1': 1, 'num5': 5}\n",
    "sortedDict = sorted(my_dict)"
   ]
  },
  {
   "cell_type": "code",
   "execution_count": 136,
   "id": "44f699c4-9e11-4667-be05-9457b5122ced",
   "metadata": {},
   "outputs": [
    {
     "data": {
      "text/plain": [
       "['num1', 'num2', 'num3', 'num4', 'num5', 'num6']"
      ]
     },
     "execution_count": 136,
     "metadata": {},
     "output_type": "execute_result"
    }
   ],
   "source": [
    "sorted(my_dict)"
   ]
  },
  {
   "cell_type": "code",
   "execution_count": 137,
   "id": "2509614d-7ffd-4036-9bbd-1943eff321ea",
   "metadata": {},
   "outputs": [],
   "source": [
    "S = {\"Ashish\",\"Ankit\",\"Sushant\",\"Sameer\",\"Tejash\",\"Ritesh\"}"
   ]
  },
  {
   "cell_type": "code",
   "execution_count": 138,
   "id": "03044228-5b6f-41bc-b8d5-d81c71efcdcb",
   "metadata": {},
   "outputs": [
    {
     "data": {
      "text/plain": [
       "['Ankit', 'Ashish', 'Ritesh', 'Sameer', 'Sushant', 'Tejash']"
      ]
     },
     "execution_count": 138,
     "metadata": {},
     "output_type": "execute_result"
    }
   ],
   "source": [
    "sorted(S)"
   ]
  },
  {
   "cell_type": "code",
   "execution_count": 139,
   "id": "611008b6-c1eb-4f60-b6bf-a547c91877f7",
   "metadata": {},
   "outputs": [],
   "source": [
    "# 35 - Write a  code that inverts a dictionary swapping keys and values. Ensure that the inverted dictionary correctly handles cases where multiple keys have the same value be storing the keys as a list in the inverted dictionary"
   ]
  },
  {
   "cell_type": "code",
   "execution_count": 140,
   "id": "d429ab4e-6a7e-4dfa-b663-a43f726cec9e",
   "metadata": {},
   "outputs": [],
   "source": [
    "d = {\"student1\": \"Sushant\",\"student2\":\"Rahul\",\"student3\":\"Raman\"}"
   ]
  },
  {
   "cell_type": "code",
   "execution_count": 141,
   "id": "77664e69-64be-4331-a7af-1237ef27c906",
   "metadata": {},
   "outputs": [
    {
     "name": "stdout",
     "output_type": "stream",
     "text": [
      "{'student1': 'Sushant', 'student2': 'Rahul', 'student3': 'Raman'}\n"
     ]
    }
   ],
   "source": [
    "print(d)"
   ]
  },
  {
   "cell_type": "code",
   "execution_count": 142,
   "id": "df286ccf-3451-4e32-a851-ab7315645229",
   "metadata": {},
   "outputs": [],
   "source": [
    "#swap the keys and values\n",
    "new_d = {val:key for (key,val)in d.items()}"
   ]
  },
  {
   "cell_type": "code",
   "execution_count": 143,
   "id": "6f2220fd-234b-4575-9344-8e73aa633ef3",
   "metadata": {},
   "outputs": [
    {
     "name": "stdout",
     "output_type": "stream",
     "text": [
      "{'Sushant': 'student1', 'Rahul': 'student2', 'Raman': 'student3'}\n"
     ]
    }
   ],
   "source": [
    "print(new_d)"
   ]
  },
  {
   "cell_type": "code",
   "execution_count": null,
   "id": "2cb0ea73-d163-43ad-970f-5bacb3701dc0",
   "metadata": {},
   "outputs": [],
   "source": []
  }
 ],
 "metadata": {
  "kernelspec": {
   "display_name": "Python 3 (ipykernel)",
   "language": "python",
   "name": "python3"
  },
  "language_info": {
   "codemirror_mode": {
    "name": "ipython",
    "version": 3
   },
   "file_extension": ".py",
   "mimetype": "text/x-python",
   "name": "python",
   "nbconvert_exporter": "python",
   "pygments_lexer": "ipython3",
   "version": "3.10.8"
  }
 },
 "nbformat": 4,
 "nbformat_minor": 5
}
